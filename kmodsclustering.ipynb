{
 "cells": [
  {
   "cell_type": "code",
   "execution_count": 36,
   "metadata": {},
   "outputs": [],
   "source": [
    "# Import module for data manipulation\n",
    "import pandas as pd\n",
    "# Import module for linear algebra\n",
    "import numpy as np\n",
    "# Import module for data visualization\n",
    "from plotnine import *\n",
    "import plotnine\n",
    "# Data visualization with matplotlib\n",
    "import matplotlib.pyplot as plt\n",
    "# Use the theme of ggplot\n",
    "plt.style.use('ggplot')\n",
    "# Import module for k-protoype cluster\n",
    "from kmodes.kmodes import KModes"
   ]
  },
  {
   "cell_type": "code",
   "execution_count": 37,
   "metadata": {},
   "outputs": [
    {
     "data": {
      "text/html": [
       "<div>\n",
       "<style scoped>\n",
       "    .dataframe tbody tr th:only-of-type {\n",
       "        vertical-align: middle;\n",
       "    }\n",
       "\n",
       "    .dataframe tbody tr th {\n",
       "        vertical-align: top;\n",
       "    }\n",
       "\n",
       "    .dataframe thead th {\n",
       "        text-align: right;\n",
       "    }\n",
       "</style>\n",
       "<table border=\"1\" class=\"dataframe\">\n",
       "  <thead>\n",
       "    <tr style=\"text-align: right;\">\n",
       "      <th></th>\n",
       "      <th>Unnamed: 0</th>\n",
       "      <th>TITLE</th>\n",
       "      <th>ID</th>\n",
       "      <th>POPULARITY</th>\n",
       "      <th>VOTE_AVERAGE</th>\n",
       "      <th>RELEASE_DATE</th>\n",
       "      <th>ORIGINAL_LANGUAGE</th>\n",
       "      <th>BUDGET</th>\n",
       "      <th>REVENUE</th>\n",
       "      <th>YEAR_RELEASED</th>\n",
       "      <th>DECADE_RELEASED</th>\n",
       "      <th>KEYWORDS</th>\n",
       "      <th>MAIN_GENRE</th>\n",
       "    </tr>\n",
       "  </thead>\n",
       "  <tbody>\n",
       "    <tr>\n",
       "      <th>0</th>\n",
       "      <td>0</td>\n",
       "      <td>Avatar</td>\n",
       "      <td>19995</td>\n",
       "      <td>538.894</td>\n",
       "      <td>7.6</td>\n",
       "      <td>2009-12-15</td>\n",
       "      <td>en</td>\n",
       "      <td>237000000</td>\n",
       "      <td>2920357254</td>\n",
       "      <td>2009</td>\n",
       "      <td>2000s</td>\n",
       "      <td>['culture clash', ' future', ' space war', ' s...</td>\n",
       "      <td>Action</td>\n",
       "    </tr>\n",
       "    <tr>\n",
       "      <th>1</th>\n",
       "      <td>1</td>\n",
       "      <td>Avengers: Endgame</td>\n",
       "      <td>299534</td>\n",
       "      <td>224.007</td>\n",
       "      <td>8.3</td>\n",
       "      <td>2019-04-24</td>\n",
       "      <td>en</td>\n",
       "      <td>356000000</td>\n",
       "      <td>2799439100</td>\n",
       "      <td>2019</td>\n",
       "      <td>2010s</td>\n",
       "      <td>['space travel', ' time travel', ' time machin...</td>\n",
       "      <td>Adventure</td>\n",
       "    </tr>\n",
       "    <tr>\n",
       "      <th>2</th>\n",
       "      <td>2</td>\n",
       "      <td>Avatar: The Way of Water</td>\n",
       "      <td>76600</td>\n",
       "      <td>1124.883</td>\n",
       "      <td>7.7</td>\n",
       "      <td>2022-12-14</td>\n",
       "      <td>en</td>\n",
       "      <td>460000000</td>\n",
       "      <td>2293000000</td>\n",
       "      <td>2022</td>\n",
       "      <td>2020s</td>\n",
       "      <td>['loss of loved one', ' dying and death', ' al...</td>\n",
       "      <td>Science Fiction</td>\n",
       "    </tr>\n",
       "    <tr>\n",
       "      <th>3</th>\n",
       "      <td>3</td>\n",
       "      <td>Titanic</td>\n",
       "      <td>597</td>\n",
       "      <td>173.561</td>\n",
       "      <td>7.9</td>\n",
       "      <td>1997-11-18</td>\n",
       "      <td>en</td>\n",
       "      <td>200000000</td>\n",
       "      <td>2187463944</td>\n",
       "      <td>1997</td>\n",
       "      <td>1990s</td>\n",
       "      <td>['drowning', ' evacuation', ' shipwreck', ' ic...</td>\n",
       "      <td>Drama</td>\n",
       "    </tr>\n",
       "    <tr>\n",
       "      <th>4</th>\n",
       "      <td>4</td>\n",
       "      <td>Star Wars: The Force Awakens</td>\n",
       "      <td>140607</td>\n",
       "      <td>59.017</td>\n",
       "      <td>7.3</td>\n",
       "      <td>2015-12-15</td>\n",
       "      <td>en</td>\n",
       "      <td>245000000</td>\n",
       "      <td>2068223624</td>\n",
       "      <td>2015</td>\n",
       "      <td>2010s</td>\n",
       "      <td>['android', ' spacecraft', ' space opera']</td>\n",
       "      <td>Adventure</td>\n",
       "    </tr>\n",
       "    <tr>\n",
       "      <th>...</th>\n",
       "      <td>...</td>\n",
       "      <td>...</td>\n",
       "      <td>...</td>\n",
       "      <td>...</td>\n",
       "      <td>...</td>\n",
       "      <td>...</td>\n",
       "      <td>...</td>\n",
       "      <td>...</td>\n",
       "      <td>...</td>\n",
       "      <td>...</td>\n",
       "      <td>...</td>\n",
       "      <td>...</td>\n",
       "      <td>...</td>\n",
       "    </tr>\n",
       "    <tr>\n",
       "      <th>6966</th>\n",
       "      <td>6966</td>\n",
       "      <td>At Long Last Love</td>\n",
       "      <td>4704</td>\n",
       "      <td>2.956</td>\n",
       "      <td>5.5</td>\n",
       "      <td>1975-03-01</td>\n",
       "      <td>en</td>\n",
       "      <td>6000000</td>\n",
       "      <td>1500000</td>\n",
       "      <td>1975</td>\n",
       "      <td>1970s</td>\n",
       "      <td>['gambling', ' singer']</td>\n",
       "      <td>Comedy</td>\n",
       "    </tr>\n",
       "    <tr>\n",
       "      <th>6967</th>\n",
       "      <td>6967</td>\n",
       "      <td>Under Capricorn</td>\n",
       "      <td>4175</td>\n",
       "      <td>7.906</td>\n",
       "      <td>6.0</td>\n",
       "      <td>1949-09-08</td>\n",
       "      <td>en</td>\n",
       "      <td>2500000</td>\n",
       "      <td>1500000</td>\n",
       "      <td>1949</td>\n",
       "      <td>Before 1960s</td>\n",
       "      <td>['loss of loved one', ' \"love of ones life\"', ...</td>\n",
       "      <td>Crime</td>\n",
       "    </tr>\n",
       "    <tr>\n",
       "      <th>6968</th>\n",
       "      <td>6968</td>\n",
       "      <td>Stolen Kisses</td>\n",
       "      <td>255</td>\n",
       "      <td>10.010</td>\n",
       "      <td>7.3</td>\n",
       "      <td>1968-09-04</td>\n",
       "      <td>fr</td>\n",
       "      <td>350000</td>\n",
       "      <td>1500000</td>\n",
       "      <td>1968</td>\n",
       "      <td>1960s</td>\n",
       "      <td>['individual', ' paris', ' france', ' shyness'...</td>\n",
       "      <td>Comedy</td>\n",
       "    </tr>\n",
       "    <tr>\n",
       "      <th>6969</th>\n",
       "      <td>6969</td>\n",
       "      <td>To Be or Not to Be</td>\n",
       "      <td>198</td>\n",
       "      <td>9.185</td>\n",
       "      <td>7.9</td>\n",
       "      <td>1942-03-05</td>\n",
       "      <td>en</td>\n",
       "      <td>1200000</td>\n",
       "      <td>1500000</td>\n",
       "      <td>1942</td>\n",
       "      <td>Before 1960s</td>\n",
       "      <td>['love triangle', ' london', ' england', ' inf...</td>\n",
       "      <td>Comedy</td>\n",
       "    </tr>\n",
       "    <tr>\n",
       "      <th>6970</th>\n",
       "      <td>6970</td>\n",
       "      <td>The Raven</td>\n",
       "      <td>29056</td>\n",
       "      <td>8.813</td>\n",
       "      <td>6.4</td>\n",
       "      <td>1963-01-25</td>\n",
       "      <td>en</td>\n",
       "      <td>350000</td>\n",
       "      <td>1499275</td>\n",
       "      <td>1963</td>\n",
       "      <td>1960s</td>\n",
       "      <td>['magic', ' castle', ' sorcery', ' parody', ' ...</td>\n",
       "      <td>Comedy</td>\n",
       "    </tr>\n",
       "  </tbody>\n",
       "</table>\n",
       "<p>6971 rows × 13 columns</p>\n",
       "</div>"
      ],
      "text/plain": [
       "      Unnamed: 0                         TITLE      ID  POPULARITY  \\\n",
       "0              0                        Avatar   19995     538.894   \n",
       "1              1             Avengers: Endgame  299534     224.007   \n",
       "2              2      Avatar: The Way of Water   76600    1124.883   \n",
       "3              3                       Titanic     597     173.561   \n",
       "4              4  Star Wars: The Force Awakens  140607      59.017   \n",
       "...          ...                           ...     ...         ...   \n",
       "6966        6966             At Long Last Love    4704       2.956   \n",
       "6967        6967               Under Capricorn    4175       7.906   \n",
       "6968        6968                 Stolen Kisses     255      10.010   \n",
       "6969        6969            To Be or Not to Be     198       9.185   \n",
       "6970        6970                     The Raven   29056       8.813   \n",
       "\n",
       "      VOTE_AVERAGE RELEASE_DATE ORIGINAL_LANGUAGE     BUDGET     REVENUE  \\\n",
       "0              7.6   2009-12-15                en  237000000  2920357254   \n",
       "1              8.3   2019-04-24                en  356000000  2799439100   \n",
       "2              7.7   2022-12-14                en  460000000  2293000000   \n",
       "3              7.9   1997-11-18                en  200000000  2187463944   \n",
       "4              7.3   2015-12-15                en  245000000  2068223624   \n",
       "...            ...          ...               ...        ...         ...   \n",
       "6966           5.5   1975-03-01                en    6000000     1500000   \n",
       "6967           6.0   1949-09-08                en    2500000     1500000   \n",
       "6968           7.3   1968-09-04                fr     350000     1500000   \n",
       "6969           7.9   1942-03-05                en    1200000     1500000   \n",
       "6970           6.4   1963-01-25                en     350000     1499275   \n",
       "\n",
       "      YEAR_RELEASED DECADE_RELEASED  \\\n",
       "0              2009           2000s   \n",
       "1              2019           2010s   \n",
       "2              2022           2020s   \n",
       "3              1997           1990s   \n",
       "4              2015           2010s   \n",
       "...             ...             ...   \n",
       "6966           1975           1970s   \n",
       "6967           1949    Before 1960s   \n",
       "6968           1968           1960s   \n",
       "6969           1942    Before 1960s   \n",
       "6970           1963           1960s   \n",
       "\n",
       "                                               KEYWORDS       MAIN_GENRE  \n",
       "0     ['culture clash', ' future', ' space war', ' s...           Action  \n",
       "1     ['space travel', ' time travel', ' time machin...        Adventure  \n",
       "2     ['loss of loved one', ' dying and death', ' al...  Science Fiction  \n",
       "3     ['drowning', ' evacuation', ' shipwreck', ' ic...            Drama  \n",
       "4            ['android', ' spacecraft', ' space opera']        Adventure  \n",
       "...                                                 ...              ...  \n",
       "6966                            ['gambling', ' singer']           Comedy  \n",
       "6967  ['loss of loved one', ' \"love of ones life\"', ...            Crime  \n",
       "6968  ['individual', ' paris', ' france', ' shyness'...           Comedy  \n",
       "6969  ['love triangle', ' london', ' england', ' inf...           Comedy  \n",
       "6970  ['magic', ' castle', ' sorcery', ' parody', ' ...           Comedy  \n",
       "\n",
       "[6971 rows x 13 columns]"
      ]
     },
     "execution_count": 37,
     "metadata": {},
     "output_type": "execute_result"
    }
   ],
   "source": [
    "import pandas as pd\n",
    "\n",
    "df = pd.read_csv('cleaned_1015.csv')\n",
    "\n",
    "df"
   ]
  },
  {
   "cell_type": "code",
   "execution_count": 40,
   "metadata": {},
   "outputs": [
    {
     "data": {
      "text/plain": [
       "Unnamed: 0           0\n",
       "TITLE                0\n",
       "ID                   0\n",
       "POPULARITY           0\n",
       "VOTE_AVERAGE         0\n",
       "RELEASE_DATE         0\n",
       "ORIGINAL_LANGUAGE    0\n",
       "BUDGET               0\n",
       "REVENUE              0\n",
       "YEAR_RELEASED        0\n",
       "DECADE_RELEASED      0\n",
       "KEYWORDS             0\n",
       "MAIN_GENRE           0\n",
       "dtype: int64"
      ]
     },
     "execution_count": 40,
     "metadata": {},
     "output_type": "execute_result"
    }
   ],
   "source": [
    "df = df.dropna(subset=['MAIN_GENRE'])\n",
    "\n",
    "df.isnull().sum()"
   ]
  },
  {
   "cell_type": "code",
   "execution_count": 41,
   "metadata": {},
   "outputs": [],
   "source": [
    "# Convert dataframe to matrix\n",
    "df_kmods = df.loc[:, ['DECADE_RELEASED', 'MAIN_GENRE']].to_numpy()"
   ]
  },
  {
   "cell_type": "code",
   "execution_count": 42,
   "metadata": {},
   "outputs": [
    {
     "name": "stdout",
     "output_type": "stream",
     "text": [
      "Cluster initiation: 1\n",
      "Cluster initiation: 2\n",
      "Cluster initiation: 3\n",
      "Cluster initiation: 4\n",
      "Cluster initiation: 5\n",
      "Cluster initiation: 6\n",
      "Cluster initiation: 7\n",
      "Cluster initiation: 8\n",
      "Cluster initiation: 9\n"
     ]
    },
    {
     "data": {
      "image/png": "[encoded data removed]",
      "text/plain": [
       "<Figure size 800x480 with 1 Axes>"
      ]
     },
     "metadata": {
      "needs_background": "light"
     },
     "output_type": "display_data"
    },
    {
     "data": {
      "text/plain": [
       "<ggplot: (8784559763417)>"
      ]
     },
     "execution_count": 42,
     "metadata": {},
     "output_type": "execute_result"
    }
   ],
   "source": [
    "# Choosing optimal K\n",
    "cost = []\n",
    "for cluster in range(1, 10):\n",
    "    try:\n",
    "        kmodes = KModes(n_jobs = -1, n_clusters = cluster, init = 'Huang', random_state = 0)\n",
    "        kmodes.fit_predict(df_kmods)\n",
    "        cost.append(kmodes.cost_)\n",
    "        print('Cluster initiation: {}'.format(cluster))\n",
    "    except:\n",
    "        break\n",
    "# Converting the results into a dataframe and plotting them\n",
    "df_cost = pd.DataFrame({'Cluster': range(1, 10), 'Cost': cost})\n",
    "# Data viz\n",
    "plotnine.options.figure_size = (8, 4.8)\n",
    "(\n",
    "    ggplot(data = df_cost)+\n",
    "    geom_line(aes(x = 'Cluster',\n",
    "                  y = 'Cost'))+\n",
    "    geom_point(aes(x = 'Cluster',\n",
    "                   y = 'Cost'))+\n",
    "    geom_label(aes(x = 'Cluster',\n",
    "                   y = 'Cost',\n",
    "                   label = 'Cluster'),\n",
    "               size = 10,\n",
    "               nudge_y = 1000) +\n",
    "    labs(title = 'Optimal number of cluster with Elbow Method')+\n",
    "    xlab('Number of Clusters k')+\n",
    "    ylab('Cost')+\n",
    "    theme_minimal()\n",
    ")"
   ]
  },
  {
   "cell_type": "code",
   "execution_count": 43,
   "metadata": {},
   "outputs": [
    {
     "data": {
      "text/plain": [
       "6582.0"
      ]
     },
     "execution_count": 43,
     "metadata": {},
     "output_type": "execute_result"
    }
   ],
   "source": [
    "# Fit the cluster\n",
    "kmodes = KModes(n_jobs = -1, n_clusters = 3, init = 'Huang', random_state = 0)\n",
    "kmodes.fit_predict(df_kmods)\n",
    "\n",
    "# Cluster centorid\n",
    "kmodes.cluster_centroids_\n",
    "# Check the iteration of the clusters created\n",
    "kmodes.n_iter_\n",
    "# Check the cost of the clusters created\n",
    "kmodes.cost_"
   ]
  },
  {
   "cell_type": "code",
   "execution_count": 44,
   "metadata": {},
   "outputs": [
    {
     "data": {
      "text/plain": [
       "array([['1990s', 'Action'],\n",
       "       ['2000s', 'Comedy'],\n",
       "       ['2010s', 'Drama']], dtype='<U6')"
      ]
     },
     "execution_count": 44,
     "metadata": {},
     "output_type": "execute_result"
    }
   ],
   "source": [
    "# Cluster centorid\n",
    "kmodes.cluster_centroids_"
   ]
  },
  {
   "cell_type": "code",
   "execution_count": 15,
   "metadata": {},
   "outputs": [
    {
     "data": {
      "text/plain": [
       "1"
      ]
     },
     "execution_count": 15,
     "metadata": {},
     "output_type": "execute_result"
    }
   ],
   "source": [
    "# Check the iteration of the clusters created\n",
    "kmodes.n_iter_"
   ]
  },
  {
   "cell_type": "code",
   "execution_count": 16,
   "metadata": {},
   "outputs": [
    {
     "data": {
      "text/plain": [
       "1719.0"
      ]
     },
     "execution_count": 16,
     "metadata": {},
     "output_type": "execute_result"
    }
   ],
   "source": [
    "# Check the cost of the clusters created\n",
    "kmodes.cost_"
   ]
  },
  {
   "cell_type": "code",
   "execution_count": null,
   "metadata": {},
   "outputs": [],
   "source": []
  }
 ],
 "metadata": {
  "kernelspec": {
   "display_name": "sc1015-dsai",
   "language": "python",
   "name": "python3"
  },
  "language_info": {
   "codemirror_mode": {
    "name": "ipython",
    "version": 3
   },
   "file_extension": ".py",
   "mimetype": "text/x-python",
   "name": "python",
   "nbconvert_exporter": "python",
   "pygments_lexer": "ipython3",
   "version": "3.10.4"
  },
  "orig_nbformat": 4
 },
 "nbformat": 4,
 "nbformat_minor": 2
}
