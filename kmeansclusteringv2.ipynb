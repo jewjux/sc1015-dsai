{
 "cells": [
  {
   "cell_type": "code",
   "execution_count": 59,
   "metadata": {},
   "outputs": [
    {
     "name": "stdout",
     "output_type": "stream",
     "text": [
      "1.5.3\n"
     ]
    }
   ],
   "source": [
    "import seaborn as sns\n",
    "# import pandas as pd\n",
    "import pandas; print(pandas.__version__)\n",
    "\n",
    "\n",
    "from sklearn.preprocessing import StandardScaler\n",
    "from sklearn.cluster import KMeans\n",
    "import matplotlib.pyplot as plt\n",
    "# For data processing\n",
    "import numpy as np\n",
    "import pandas as pd\n",
    "import scipy.stats as stats\n",
    "\n",
    "# For API usage\n",
    "import requests as r\n",
    "\n",
    "# For progress bar\n",
    "from tqdm import tqdm"
   ]
  },
  {
   "cell_type": "code",
   "execution_count": null,
   "metadata": {},
   "outputs": [],
   "source": []
  },
  {
   "attachments": {},
   "cell_type": "markdown",
   "metadata": {},
   "source": [
    "# KMEANS for budget and vote_average"
   ]
  },
  {
   "cell_type": "code",
   "execution_count": 60,
   "metadata": {},
   "outputs": [
    {
     "data": {
      "text/html": [
       "<div>\n",
       "<style scoped>\n",
       "    .dataframe tbody tr th:only-of-type {\n",
       "        vertical-align: middle;\n",
       "    }\n",
       "\n",
       "    .dataframe tbody tr th {\n",
       "        vertical-align: top;\n",
       "    }\n",
       "\n",
       "    .dataframe thead th {\n",
       "        text-align: right;\n",
       "    }\n",
       "</style>\n",
       "<table border=\"1\" class=\"dataframe\">\n",
       "  <thead>\n",
       "    <tr style=\"text-align: right;\">\n",
       "      <th></th>\n",
       "      <th>VOTE_AVERAGE</th>\n",
       "      <th>BUDGET</th>\n",
       "    </tr>\n",
       "  </thead>\n",
       "  <tbody>\n",
       "    <tr>\n",
       "      <th>0</th>\n",
       "      <td>7.6</td>\n",
       "      <td>237000000</td>\n",
       "    </tr>\n",
       "    <tr>\n",
       "      <th>1</th>\n",
       "      <td>8.3</td>\n",
       "      <td>356000000</td>\n",
       "    </tr>\n",
       "    <tr>\n",
       "      <th>2</th>\n",
       "      <td>7.7</td>\n",
       "      <td>460000000</td>\n",
       "    </tr>\n",
       "    <tr>\n",
       "      <th>3</th>\n",
       "      <td>7.9</td>\n",
       "      <td>200000000</td>\n",
       "    </tr>\n",
       "    <tr>\n",
       "      <th>4</th>\n",
       "      <td>7.3</td>\n",
       "      <td>245000000</td>\n",
       "    </tr>\n",
       "    <tr>\n",
       "      <th>...</th>\n",
       "      <td>...</td>\n",
       "      <td>...</td>\n",
       "    </tr>\n",
       "    <tr>\n",
       "      <th>6966</th>\n",
       "      <td>5.5</td>\n",
       "      <td>6000000</td>\n",
       "    </tr>\n",
       "    <tr>\n",
       "      <th>6967</th>\n",
       "      <td>6.0</td>\n",
       "      <td>2500000</td>\n",
       "    </tr>\n",
       "    <tr>\n",
       "      <th>6968</th>\n",
       "      <td>7.3</td>\n",
       "      <td>350000</td>\n",
       "    </tr>\n",
       "    <tr>\n",
       "      <th>6969</th>\n",
       "      <td>7.9</td>\n",
       "      <td>1200000</td>\n",
       "    </tr>\n",
       "    <tr>\n",
       "      <th>6970</th>\n",
       "      <td>6.4</td>\n",
       "      <td>350000</td>\n",
       "    </tr>\n",
       "  </tbody>\n",
       "</table>\n",
       "<p>6971 rows × 2 columns</p>\n",
       "</div>"
      ],
      "text/plain": [
       "      VOTE_AVERAGE     BUDGET\n",
       "0              7.6  237000000\n",
       "1              8.3  356000000\n",
       "2              7.7  460000000\n",
       "3              7.9  200000000\n",
       "4              7.3  245000000\n",
       "...            ...        ...\n",
       "6966           5.5    6000000\n",
       "6967           6.0    2500000\n",
       "6968           7.3     350000\n",
       "6969           7.9    1200000\n",
       "6970           6.4     350000\n",
       "\n",
       "[6971 rows x 2 columns]"
      ]
     },
     "execution_count": 60,
     "metadata": {},
     "output_type": "execute_result"
    }
   ],
   "source": [
    "numerical_data = pd.read_csv('cleaned_1015.csv', usecols = ['BUDGET', 'VOTE_AVERAGE'])\n",
    "numerical_data"
   ]
  },
  {
   "cell_type": "code",
   "execution_count": null,
   "metadata": {},
   "outputs": [],
   "source": []
  },
  {
   "attachments": {},
   "cell_type": "markdown",
   "metadata": {},
   "source": [
    "# Steps 1 and 2 of K-Means were about choosing the number of clusters (k) and selecting random centroids for each cluster. We will pick 3 clusters and then select random observations from the data as the centroids:"
   ]
  },
  {
   "cell_type": "code",
   "execution_count": 61,
   "metadata": {},
   "outputs": [
    {
     "data": {
      "image/png": "[encoded data removed]",
      "text/plain": [
       "<Figure size 432x288 with 1 Axes>"
      ]
     },
     "metadata": {
      "needs_background": "light"
     },
     "output_type": "display_data"
    }
   ],
   "source": [
    "#number of clusters\n",
    "K=6\n",
    "\n",
    "# Select random observation as centroids\n",
    "Centroids = (numerical_data.sample(n=K))\n",
    "plt.scatter(numerical_data[\"BUDGET\"],numerical_data[\"VOTE_AVERAGE\"],c='black')\n",
    "plt.scatter(Centroids[\"BUDGET\"],Centroids[\"VOTE_AVERAGE\"],c='red')\n",
    "plt.xlabel('BUDGET')\n",
    "plt.ylabel('VOTE_AVERAGE')\n",
    "plt.show()"
   ]
  },
  {
   "attachments": {},
   "cell_type": "markdown",
   "metadata": {},
   "source": [
    "# Step 3 - Assign all the points to the closest cluster centroid\n",
    "# Step 4 - Recompute centroids of newly formed clusters\n",
    "# Step 5 - Repeat step 3 and 4\n",
    "\n",
    "We have initially defined the diff as 1, and inside the whole loop, we are calculating this diff as the difference between the centroids in the previous iteration and the current iteration.\n",
    "\n",
    "When this difference is 0, we stop the training. Let’s now visualize the clusters we have got:"
   ]
  },
  {
   "cell_type": "code",
   "execution_count": 62,
   "metadata": {},
   "outputs": [
    {
     "name": "stdout",
     "output_type": "stream",
     "text": [
      "32681189.788570933\n",
      "29739659.24480076\n",
      "25992660.457086064\n",
      "25015330.74878865\n",
      "19052146.272793915\n",
      "20939240.972935632\n",
      "14359120.51043391\n",
      "11832720.12708225\n",
      "13025506.714780245\n",
      "9823932.34138656\n",
      "8456748.70051308\n",
      "11789915.954036731\n",
      "7284429.341659007\n",
      "8501963.83069414\n",
      "8280469.901509269\n",
      "2975222.3345673624\n",
      "5308830.880415428\n",
      "2621404.6875168504\n",
      "4995521.526078789\n",
      "7286191.526024555\n",
      "2476924.21250039\n",
      "2346566.3847457506\n",
      "6859290.296743225\n",
      "3716678.763391576\n",
      "359067.0362203842\n",
      "3787846.4860977554\n",
      "1313512.8402333898\n",
      "220914.88266838013\n",
      "0.0\n"
     ]
    }
   ],
   "source": [
    "diff = 1\n",
    "j=0\n",
    "\n",
    "while(diff!=0):\n",
    "    XD=numerical_data\n",
    "    i=1\n",
    "    for index1,row_c in Centroids.iterrows():\n",
    "        ED=[]\n",
    "        for index2,row_d in XD.iterrows():\n",
    "            d1=(row_c[\"BUDGET\"]-row_d[\"BUDGET\"])**2\n",
    "            d2=(row_c[\"VOTE_AVERAGE\"]-row_d[\"VOTE_AVERAGE\"])**2\n",
    "            d=np.sqrt(d1+d2)\n",
    "            ED.append(d)\n",
    "        numerical_data[i]=ED\n",
    "        i=i+1\n",
    "\n",
    "    C=[]\n",
    "    for index,row in numerical_data.iterrows():\n",
    "        min_dist=row[1]\n",
    "        pos=1\n",
    "        for i in range(K):\n",
    "            if row[i+1] < min_dist:\n",
    "                min_dist = row[i+1]\n",
    "                pos=i+1\n",
    "        C.append(pos)\n",
    "    numerical_data[\"Cluster\"]=C\n",
    "    Centroids_new = numerical_data.groupby([\"Cluster\"]).mean()[[\"VOTE_AVERAGE\",\"BUDGET\"]]\n",
    "    if j == 0:\n",
    "        diff=1\n",
    "        j=j+1\n",
    "    else:\n",
    "        diff = (Centroids_new['VOTE_AVERAGE'] - Centroids['VOTE_AVERAGE']).sum() + (Centroids_new['BUDGET'] - Centroids['BUDGET']).sum()\n",
    "        print(diff.sum())\n",
    "    Centroids = numerical_data.groupby([\"Cluster\"]).mean()[[\"VOTE_AVERAGE\",\"BUDGET\"]]"
   ]
  },
  {
   "cell_type": "code",
   "execution_count": 63,
   "metadata": {},
   "outputs": [
    {
     "data": {
      "image/png": "[encoded data removed]",
      "text/plain": [
       "<Figure size 432x288 with 1 Axes>"
      ]
     },
     "metadata": {
      "needs_background": "light"
     },
     "output_type": "display_data"
    }
   ],
   "source": [
    "\n",
    "color=['blue','green','cyan', 'pink', 'orange', 'black']\n",
    "for k in range(K):\n",
    "    data=numerical_data[numerical_data[\"Cluster\"]==k+1]\n",
    "    plt.scatter(data[\"BUDGET\"],data[\"VOTE_AVERAGE\"],c=color[k])\n",
    "plt.scatter(Centroids[\"BUDGET\"],Centroids[\"VOTE_AVERAGE\"],c='red')\n",
    "plt.xlabel('BUDGET')\n",
    "plt.ylabel('VOTE_AVERAGE')\n",
    "plt.show()"
   ]
  },
  {
   "attachments": {},
   "cell_type": "markdown",
   "metadata": {},
   "source": [
    "KMEANS for revenue and vote_average"
   ]
  }
 ],
 "metadata": {
  "kernelspec": {
   "display_name": "base",
   "language": "python",
   "name": "python3"
  },
  "language_info": {
   "codemirror_mode": {
    "name": "ipython",
    "version": 3
   },
   "file_extension": ".py",
   "mimetype": "text/x-python",
   "name": "python",
   "nbconvert_exporter": "python",
   "pygments_lexer": "ipython3",
   "version": "3.8.8"
  },
  "orig_nbformat": 4,
  "vscode": {
   "interpreter": {
    "hash": "40d3a090f54c6569ab1632332b64b2c03c39dcf918b08424e98f38b5ae0af88f"
   }
  }
 },
 "nbformat": 4,
 "nbformat_minor": 2
}
